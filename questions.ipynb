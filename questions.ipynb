{
 "cells": [
  {
   "cell_type": "markdown",
   "id": "469d2dbb",
   "metadata": {},
   "source": [
    "### SECTION A: Core OOP Concepts (Classes, Objects) – 10 Marks"
   ]
  },
  {
   "cell_type": "code",
   "execution_count": null,
   "id": "8471c5b3",
   "metadata": {},
   "outputs": [
    {
     "name": "stdout",
     "output_type": "stream",
     "text": [
      "Title : Americanah Author : Chimamanda Ngozi Year Published : 2013\n"
     ]
    }
   ],
   "source": [
    "#1.) Define a class Book with attributes title, author, and year_published. Include a method get_info() that returns a formatted string with book details.\n",
    "\n",
    "class Book:\n",
    "    def __init__(self, title, author, year_published):\n",
    "        self.title = title\n",
    "        self.author = author\n",
    "        self.year_published = year_published\n",
    "\n",
    "    def get_info(self):\n",
    "        print(f\"Title : {self.title} Author : {self.author} Year Published : {self.year_published}\")\n",
    "\n",
    "book1 = Book(\"Americanah\", \"Chimamanda Ngozi\", 2013)\n",
    "book1.get_info()"
   ]
  },
  {
   "cell_type": "code",
   "execution_count": null,
   "id": "3fb84ed0",
   "metadata": {},
   "outputs": [
    {
     "name": "stdout",
     "output_type": "stream",
     "text": [
      "Title : 1984 Author : George Orwell Year Published : 1949\n"
     ]
    }
   ],
   "source": [
    "#2.) Create an instance of the Book class for the book “1984” by George Orwell, published in 1949.\n",
    "\n",
    "book2 = Book(1984, \"George Orwell\", 1949)\n",
    "book2.get_info()"
   ]
  },
  {
   "cell_type": "code",
   "execution_count": null,
   "id": "1c4ef2dc",
   "metadata": {},
   "outputs": [
    {
     "name": "stdout",
     "output_type": "stream",
     "text": [
      "Total Num of Books :  2\n"
     ]
    }
   ],
   "source": [
    "#3.) Add a class variable to Book that keeps track of the total number of books created. Display the count.\n",
    "\n",
    "class Book:\n",
    "    count = 0\n",
    "    def __init__(self, title, author, year_published):\n",
    "        self.title = title\n",
    "        self.author = author\n",
    "        self.year_published = year_published\n",
    "        Book.count += 1\n",
    "\n",
    "    def get_info(self):\n",
    "        print(f\"Title : {self.title} Author : {self.author} Year Published : {self.year_published}\")\n",
    "\n",
    "book1 = Book(\"Americanah\", \"Chimamanda Ngozi\", 2013)\n",
    "book2 = Book(1984, \"George Orwell\", 1949)\n",
    "print(\"Total Num of Books : \", Book.count)"
   ]
  },
  {
   "cell_type": "code",
   "execution_count": null,
   "id": "7c3f2191",
   "metadata": {},
   "outputs": [],
   "source": [
    "#4.) Modify the Book class to accept a list of genres as an attribute. Include a method has_genre(genre) that checks if the book belongs to a specific genre\n",
    "\n",
    "class Book:\n",
    "    count = 0\n",
    "    def __init__(self, title, author, year_published, genre):\n",
    "        self.title = title\n",
    "        self.author = author\n",
    "        self.year_published = year_published\n",
    "        Book.count += 1\n",
    "        self.genre = []\n",
    "\n",
    "    def get_info(self):\n",
    "        print(f\"Title : {self.title} Author : {self.author} Year Published : {self.year_published}\")\n",
    "\n",
    "    def has_genre(self, genre):\n",
    "        self.genre = genre\n",
    "        for gen in self.genre:\n",
    "            if not gen.genre:\n",
    "                print(\"No genre\")\n"
   ]
  },
  {
   "cell_type": "code",
   "execution_count": null,
   "id": "7f47e82e",
   "metadata": {},
   "outputs": [
    {
     "name": "stdout",
     "output_type": "stream",
     "text": [
      "Americanah\n",
      "Half of a Yellow Sun\n",
      "Purple Hibiscus\n"
     ]
    }
   ],
   "source": [
    "#5.) Create a class Library that contains a list of books and has: 1)  add_book(book) to add to the list.2)get_books_by_author(author) to return all books by that author.  \n",
    " \n",
    "class Book:\n",
    "    count = 0\n",
    "    def __init__(self, title, author, year_published):\n",
    "        self.title = title\n",
    "        self.author = author\n",
    "        self.year_published = year_published\n",
    "        Book.count += 1\n",
    "        self.book = []\n",
    "\n",
    "class Library(Book):\n",
    "    def __init__(self, title, author, year_published):\n",
    "        super().__init__(title, author, year_published)\n",
    "\n",
    "    def add_book(self, book):\n",
    "        self.book.append(book)\n",
    "\n",
    "    def get_books_by_author(self):\n",
    "        return self.author\n",
    "    \n",
    "    def display_books(self):\n",
    "        for book in self.book:\n",
    "            print(book)\n",
    "    \n",
    "lib = Library(\"Americanah\", \"Chimamanda Ngozi\", 2013)\n",
    "lib1 = Library(\"Purple Hibiscus\", \"Chimamanda Ngozi\", 2019)\n",
    "lib2 = Library(\"Atomic Habits\", \"James Clear\", 2020)\n",
    "\n",
    "lib.get_books_by_author()\n",
    "lib.add_book(\"Americanah\")\n",
    "lib.add_book(\"Half of a Yellow Sun\")\n",
    "lib.add_book(\"Purple Hibiscus\")\n",
    "lib.display_books()\n"
   ]
  },
  {
   "cell_type": "markdown",
   "id": "6d764eca",
   "metadata": {},
   "source": [
    "### SECTION B: Inheritance – 10 Marks \n"
   ]
  },
  {
   "cell_type": "code",
   "execution_count": null,
   "id": "38f87d4e",
   "metadata": {},
   "outputs": [
    {
     "data": {
      "text/plain": [
       "'My name is Valarie and i am 25 years old and i earn a salary of 70000'"
      ]
     },
     "execution_count": 24,
     "metadata": {},
     "output_type": "execute_result"
    }
   ],
   "source": [
    "#6.) Create a base class Employee with attributes name, age, and salary. Add a method work() that prints a generic work message.\n",
    "\n",
    "class Employee:\n",
    "    def __init__(self, name, age, salary):\n",
    "        self.name = name\n",
    "        self.age = age\n",
    "        self.salary = salary\n",
    "\n",
    "    def work(self):\n",
    "        return f\"My name is {self.name} and i am {self.age} years old and i earn a salary of {self.salary}\"\n",
    "\n",
    "emp = Employee(\"Valarie\", 25, 70000)\n",
    "emp.work()"
   ]
  },
  {
   "cell_type": "code",
   "execution_count": null,
   "id": "57c86a4e",
   "metadata": {},
   "outputs": [],
   "source": [
    "#7.) Create a subclass Manager that inherits from Employee. Add an attribute team_size and override the work() method to include their role and team size.\n",
    "\n",
    "class Employee:\n",
    "    def __init__(self, name, age, salary):\n",
    "        self.name = name\n",
    "        self.age = age\n",
    "        self.salary = salary\n",
    "\n",
    "    def work(self):\n",
    "        return f\"My name is {self.name} and i am {self.age} years old and i earn a salary of {self.salary}\"\n",
    "    \n",
    "class Manager(Employee):\n",
    "    def __init__(self, name, age, salary, role, team_size):\n",
    "        super().__init__(name, age, salary)\n",
    "        self.role = role\n",
    "        self.team_size = team_size\n",
    "\n",
    "    def work(self):\n",
    "        return f\"My name is {self.name} and i am {self.age} years old and i earn a salary of {self.salary}.My role is {self.role} and the size of my team is {self.team_size}\"\n",
    "\n",
    "      "
   ]
  },
  {
   "cell_type": "code",
   "execution_count": null,
   "id": "6bb3f59b",
   "metadata": {},
   "outputs": [
    {
     "name": "stdout",
     "output_type": "stream",
     "text": [
      "The developer is using Python\n"
     ]
    }
   ],
   "source": [
    "#8.) Create another subclass Developer with an extra attribute language. Add a method code() that prints a message showing what language they’re coding in.\n",
    "\n",
    "class Employee:\n",
    "    def __init__(self, name, age, salary):\n",
    "        self.name = name\n",
    "        self.age = age\n",
    "        self.salary = salary\n",
    "\n",
    "    def work(self):\n",
    "        return f\"My name is {self.name} and i am {self.age} years old and i earn a salary of {self.salary}\"\n",
    "    \n",
    "class Manager(Employee):\n",
    "    def __init__(self, name, age, salary, role, team_size):\n",
    "        super().__init__(name, age, salary)\n",
    "        self.role = role\n",
    "        self.team_size = team_size\n",
    "\n",
    "    def work(self):\n",
    "        return f\"My name is {self.name} and i am {self.age} years old and i earn a salary of {self.salary}.My role is {self.role} and the size of my team is {self.team_size}\"\n",
    "\n",
    "class Developer(Manager):\n",
    "    def __init__(self, name, age, salary, role, team_size,language):\n",
    "        super().__init__(name, age, salary, role, team_size)\n",
    "        self.language = language\n",
    "\n",
    "    def code(self):\n",
    "        print(f\"The developer is using {self.language}\")\n",
    "\n",
    "dev = Developer(\"Valarie\", 25, 70000,\"Tech Lead\",20,\"Python\")\n",
    "dev.code()"
   ]
  },
  {
   "cell_type": "code",
   "execution_count": null,
   "id": "8b1707d2",
   "metadata": {},
   "outputs": [
    {
     "name": "stdout",
     "output_type": "stream",
     "text": [
      "The developer is using SQL\n"
     ]
    }
   ],
   "source": [
    "#9.) Create a list of Employee objects (some Managers, some Developers). Loop through the list and call the work() method on each.\n",
    "\n",
    "man1 = Manager(\"Valarie\", 25, 70000,\"Tech Lead\",20)\n",
    "man2 = Manager(\"Victoria\", 20, 170000,\"Devops Engineer\",5)\n",
    "man3 = Manager(\"Jonathan\", 27, 100000,\"Data Scientist\",10)\n",
    "\n",
    "dev1 = Developer(\"Sharon\", 20, 80000,\"Data Engineer\",6,\"Python\")\n",
    "dev2 = Developer(\"Beatrice\", 35, 100000,\"Data Analyst\",5,\"SQL\")\n",
    "dev3 = Developer(\"Patel\", 25, 40000,\"Data Scientist\",4,\"R\")\n",
    "\n",
    "man1.work()\n",
    "\n",
    "dev2.code()\n"
   ]
  },
  {
   "cell_type": "code",
   "execution_count": null,
   "id": "a6307c4c",
   "metadata": {},
   "outputs": [],
   "source": [
    "#10.) Write a function calculate_total_salary(employees) that takes the list and returns the total salary.\n",
    "\n",
    "class Employee:\n",
    "    def __init__(self, name, age, salary):\n",
    "        self.name = name\n",
    "        self.age = age\n",
    "        self.salary = salary\n",
    "        self.salary = []\n",
    "\n",
    "    def work(self):\n",
    "        return f\"My name is {self.name} and i am {self.age} years old and i earn a salary of {self.salary}\"\n",
    "    \n",
    "    def calculate_total_salary(self,salary):\n",
    "    \n",
    "              self.salary.append(salary)\n",
    "              print(self.salary)\n",
    "            \n",
    "    \n",
    "    \n",
    "emp1 = Employee(\"Valarie\", 25, 70000)\n",
    "emp2 = Employee(\"Victoria\", 20, 170000)\n",
    "emp3 = Employee(\"Jonathan\", 27, 100000)\n",
    "\n",
    "emp1.calculate_total_salary"
   ]
  },
  {
   "cell_type": "markdown",
   "id": "260f779e",
   "metadata": {},
   "source": [
    "### SECTION C: Data Structures inside Classes – 5 Marks\n"
   ]
  },
  {
   "cell_type": "code",
   "execution_count": null,
   "id": "6e5953ba",
   "metadata": {},
   "outputs": [
    {
     "name": "stdout",
     "output_type": "stream",
     "text": [
      "['Mathematics', 'English', 'Kiswahili']\n",
      "[70, 60, 80]\n"
     ]
    },
    {
     "data": {
      "text/plain": [
       "70.0"
      ]
     },
     "execution_count": 88,
     "metadata": {},
     "output_type": "execute_result"
    }
   ],
   "source": [
    "#11.) Create a class Student with a dictionary to hold subjects and marks. Add methods to:1)Add a subject and mark 2)Calculate average\n",
    "\n",
    "class Student:\n",
    "    def __init__(self, name, subjects, marks):\n",
    "        self.name = name\n",
    "        self.subjects = []\n",
    "        self.marks = []\n",
    "\n",
    "    def add_subject(self,subjects,marks):\n",
    "        self.subjects.append(subjects)\n",
    "        self.marks.append(marks)\n",
    "\n",
    "    def display_subjects_and_marks (self):\n",
    "        \n",
    "            print(self.subjects)\n",
    "        \n",
    "            print(self.marks)\n",
    "\n",
    "    def average(self):\n",
    "         if self.marks:\n",
    "              return sum(self.marks) / len(self.marks)\n",
    "\n",
    "stud = Student(\"Val\",\"Math\",20)\n",
    "        \n",
    "stud.add_subject(\"Mathematics\",70)\n",
    "stud.add_subject(\"English\",60)  \n",
    "stud.add_subject(\"Kiswahili\",80)  \n",
    "\n",
    "stud.display_subjects_and_marks()\n",
    "\n",
    "stud.average()\n",
    "\n"
   ]
  },
  {
   "cell_type": "code",
   "execution_count": null,
   "id": "febce634",
   "metadata": {},
   "outputs": [
    {
     "name": "stdout",
     "output_type": "stream",
     "text": [
      "Below Average\n",
      "Vic\n",
      "Shar\n",
      "Below Average\n"
     ]
    }
   ],
   "source": [
    "#12.) Create a class Classroom with a list of Student objects. Write a method to print names of all students scoring an average above 75.\n",
    "\n",
    "class Classroom:\n",
    "    def __init__(self, name, marks):\n",
    "        self.name = name\n",
    "        self.marks = marks\n",
    "\n",
    "    def above_avarage(self):\n",
    "        if self.marks >= 75:\n",
    "            print(self.name)\n",
    "        else:\n",
    "            print(\"Below Average\")\n",
    "\n",
    "stud1 = Classroom(\"Val\",40)\n",
    "stud2 = Classroom(\"Vic\",90)\n",
    "stud3 = Classroom(\"Shar\",75)\n",
    "stud4 = Classroom(\"Chir\",60)\n",
    "\n",
    "stud1.above_avarage()\n",
    "stud2.above_avarage()\n",
    "stud3.above_avarage()\n",
    "stud4.above_avarage()\n",
    "        "
   ]
  },
  {
   "cell_type": "code",
   "execution_count": null,
   "id": "815cf57a",
   "metadata": {},
   "outputs": [],
   "source": [
    "#13.) Add a set inside the Classroom class to keep track of all unique subjects taught.\n",
    "\n",
    "class Classroom:\n",
    "    def __init__(self, name, marks,subject):\n",
    "        self.name = name\n",
    "        self.marks = marks\n",
    "        self.subject = subject\n",
    "\n",
    "    def above_avarage(self):\n",
    "        if self.marks >= 75:\n",
    "            print(self.name)\n",
    "        else:\n",
    "            print(\"Below Average\")\n",
    "\n",
    "    def unique(self):\n",
    "        \n",
    "        if self.subject:\n",
    "            return self.subject\n",
    "            # return len(set(self.subject)) == len(self.subject)\n",
    "    \n",
    "stud1 = Classroom(\"Val\",\"Maths\",40)\n",
    "stud2 = Classroom(\"Vic\",\"Maths\",90)\n",
    "stud3 = Classroom(\"Shar\",\"English\",75)\n",
    "stud4 = Classroom(\"Chir\",\"Kiswahili\",60)\n",
    "\n",
    "stud1.unique()\n"
   ]
  },
  {
   "cell_type": "code",
   "execution_count": null,
   "id": "f7c0b3e8",
   "metadata": {},
   "outputs": [],
   "source": [
    "#14.) Use a tuple to store each student's date of birth (dd, mm, yyyy) in the Student class."
   ]
  },
  {
   "cell_type": "markdown",
   "id": "a7086262",
   "metadata": {},
   "source": [
    "### SECTION D: Functions, Loops, and Logical Thinking – 10 Marks\n"
   ]
  },
  {
   "cell_type": "code",
   "execution_count": null,
   "id": "484bf99c",
   "metadata": {},
   "outputs": [],
   "source": [
    "#15.) Create a class BankAccount with methods:deposit(amount) withdraw(amount) get_balance()\n",
    "\n",
    "class BankAccount:\n",
    "    def __init__(self, owner, balance = 0):\n",
    "        self.owner = owner\n",
    "        self.balance = balance\n",
    "\n",
    "    def deposit(self):\n",
    "        amount=float(input(\"Enter amount to be Deposited: \"))\n",
    "        self.balance += amount\n",
    "        return f\"Deposited amount : {amount}, balance : {self.balance}\" \n",
    "\n",
    "    def withdraw(self):\n",
    "        amount=float(input(\"Enter amount to be Withdrawn: \"))\n",
    "        if amount > self.balance:\n",
    "            print(\"Insufficient funds\")\n",
    "        else:\n",
    "            self.balance -= amount\n",
    "            print(f\"Withdrawal amount : {amount}, Remaining balance : {self.balance}\")\n",
    "\n",
    "    def get_balance(self):\n",
    "        return f\"Balance : {self.balance}\" \n",
    "    "
   ]
  },
  {
   "cell_type": "code",
   "execution_count": null,
   "id": "8645c97f",
   "metadata": {},
   "outputs": [
    {
     "name": "stdout",
     "output_type": "stream",
     "text": [
      "---- Deposits ----\n",
      "Deposited amount : 100000.0, balance : 300000.0\n",
      "Deposited amount : 100000.0, balance : 400000.0\n",
      "Deposited amount : 100000.0, balance : 500000.0\n",
      "Deposited amount : 100000.0, balance : 600000.0\n",
      "Deposited amount : 100000.0, balance : 700000.0\n",
      "---- Withdrawals ----\n",
      "Withdrawal amount : 50000.0, Remaining balance : 650000.0\n",
      "None\n",
      "Withdrawal amount : 50000.0, Remaining balance : 600000.0\n",
      "None\n",
      "Withdrawal amount : 50000.0, Remaining balance : 550000.0\n",
      "None\n",
      "Balance : 550000.0\n"
     ]
    }
   ],
   "source": [
    "#16.) Use a loop to simulate 5 deposits and 3 withdrawals.\n",
    "\n",
    "bank = BankAccount(\"Valarie\", 200000)\n",
    "\n",
    "print(\"---- Deposits ----\")\n",
    "for i in range(5):\n",
    "    print(bank.deposit())  \n",
    "\n",
    "print(\"---- Withdrawals ----\")\n",
    "for i in range(3):\n",
    "    print(bank.withdraw())\n",
    "\n",
    "print(bank.get_balance())"
   ]
  },
  {
   "cell_type": "code",
   "execution_count": null,
   "id": "f2baa87d",
   "metadata": {},
   "outputs": [],
   "source": [
    "#17.) Create a class Cart that uses a dictionary to store item names as keys and quantity as values. Include:add_item(name, qty) remove_item(name)total_items()\n",
    "\n",
    "class Cart:\n",
    "    def __init__(self):\n",
    "       self.items = {}\n",
    "\n",
    "    def add_item(self, name, qty):\n",
    "        self.name = name\n",
    "        self.qty = qty\n",
    "        if name in self.items:\n",
    "            self.items[name] += name\n",
    "        else:\n",
    "            self.items[qty] = qty\n",
    "\n",
    "    def remove_item(self, name):\n",
    "        self.name = name\n",
    "        if self.name in self.items:\n",
    "            del self.name\n",
    "        else:\n",
    "            print(f\"{self.name} not found\")   \n",
    "\n",
    "\n",
    "    def total_items(self):\n",
    "        return sum(self.items.values()) \n"
   ]
  },
  {
   "cell_type": "code",
   "execution_count": null,
   "id": "32b918d7",
   "metadata": {},
   "outputs": [
    {
     "name": "stdout",
     "output_type": "stream",
     "text": [
      " sweets: 5\n",
      " sweets: 5\n",
      " sweets: 5\n"
     ]
    }
   ],
   "source": [
    "#18.) Create a method in Cart to display all items and quantities using a loop.\n",
    "\n",
    "class Cart:\n",
    "    def __init__(self):\n",
    "       self.items = {}\n",
    "\n",
    "    def add_item(self, name, qty):\n",
    "        self.name = name\n",
    "        self.qty = qty\n",
    "        if name in self.items:\n",
    "            self.items[name] += name\n",
    "        else:\n",
    "            self.items[qty] = qty\n",
    "\n",
    "    def remove_item(self, name):\n",
    "        self.name = name\n",
    "        if self.name in self.items:\n",
    "            del self.name\n",
    "        else:\n",
    "            print(f\"{self.name} not found\")   \n",
    "\n",
    "\n",
    "    def total_items(self):\n",
    "        return sum(self.items.values())\n",
    "\n",
    "    def display_all(self):\n",
    "        for name, qty in self.items.items():\n",
    "            print(f\" {self.name}: {self.qty}\") \n",
    "\n",
    "\n",
    "\n",
    "cart = Cart()\n",
    "cart.add_item(\"bread\", 1)\n",
    "cart.add_item(\"Flour\", 2)\n",
    "cart.add_item(\"sweets\", 5) \n",
    "\n",
    "cart.total_items()\n",
    "cart.display_all()\n"
   ]
  },
  {
   "cell_type": "code",
   "execution_count": 143,
   "id": "e2cea8fb",
   "metadata": {},
   "outputs": [],
   "source": [
    "#19.) Write a class School with a method enroll_students(*names) using variable-length arguments to accept any number of names."
   ]
  },
  {
   "cell_type": "code",
   "execution_count": null,
   "id": "e24f59ad",
   "metadata": {},
   "outputs": [],
   "source": [
    "#20.) In the School class, create a method that returns the longest student name using a loop."
   ]
  },
  {
   "cell_type": "code",
   "execution_count": null,
   "id": "d83b521e",
   "metadata": {},
   "outputs": [],
   "source": [
    "#21) Use list comprehension inside a class method to return all student names in uppercase."
   ]
  },
  {
   "cell_type": "code",
   "execution_count": 144,
   "id": "34314965",
   "metadata": {},
   "outputs": [],
   "source": [
    "#22.) Write a method in Cart to return a list of items where the quantity is more than 2."
   ]
  },
  {
   "cell_type": "code",
   "execution_count": 145,
   "id": "d207e47f",
   "metadata": {},
   "outputs": [],
   "source": [
    "#23.) Write a method that checks whether a student exists in the list using the in operator."
   ]
  },
  {
   "cell_type": "code",
   "execution_count": 146,
   "id": "9a8e576a",
   "metadata": {},
   "outputs": [],
   "source": [
    "#24.) In the Student class, write a method that returns a dictionary of subjects where the score is above 80."
   ]
  },
  {
   "cell_type": "code",
   "execution_count": null,
   "id": "b0654352",
   "metadata": {},
   "outputs": [],
   "source": [
    "#25.) In any class, demonstrate the use of a while loop to simulate a basic countdown timer for an event (from 5 to 1)."
   ]
  }
 ],
 "metadata": {
  "kernelspec": {
   "display_name": "base",
   "language": "python",
   "name": "python3"
  },
  "language_info": {
   "codemirror_mode": {
    "name": "ipython",
    "version": 3
   },
   "file_extension": ".py",
   "mimetype": "text/x-python",
   "name": "python",
   "nbconvert_exporter": "python",
   "pygments_lexer": "ipython3",
   "version": "3.11.7"
  }
 },
 "nbformat": 4,
 "nbformat_minor": 5
}
